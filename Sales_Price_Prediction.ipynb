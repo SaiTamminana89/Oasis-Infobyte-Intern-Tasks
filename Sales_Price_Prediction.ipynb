{
  "nbformat": 4,
  "nbformat_minor": 0,
  "metadata": {
    "colab": {
      "private_outputs": true,
      "provenance": []
    },
    "kernelspec": {
      "name": "python3",
      "display_name": "Python 3"
    },
    "language_info": {
      "name": "python"
    }
  },
  "cells": [
    {
      "cell_type": "markdown",
      "source": [
        "Sales prediction means predicting how much of a product people will buy based on factors\n",
        "such as the amount you spend to advertise your product, the segment of people you\n",
        "advertise for, or the platform you are advertising on about your product.\n",
        "\n",
        "\n",
        "\n",
        "Typically, a product and service-based business always need their Data Scientist to predict\n",
        "their future sales with every step they take to manipulate the cost of advertising their\n",
        "product. So let’s start the task of sales prediction with machine learning using Python"
      ],
      "metadata": {
        "id": "rkH-3mJwt1-7"
      }
    },
    {
      "cell_type": "code",
      "execution_count": null,
      "metadata": {
        "id": "mE-XNr0StwRe"
      },
      "outputs": [],
      "source": [
        "# importing the necessary packages\n",
        "import pandas as pd\n",
        "import numpy as np "
      ]
    },
    {
      "cell_type": "code",
      "source": [
        "# Reading the dataset from github\n",
        "df = pd.read_csv('https://raw.githubusercontent.com/SaiTamminana89/csv/main/Advertising.csv')"
      ],
      "metadata": {
        "id": "uLAzBOd5uPe6"
      },
      "execution_count": null,
      "outputs": []
    },
    {
      "cell_type": "code",
      "source": [
        "df"
      ],
      "metadata": {
        "id": "z0sLL9aYunqD"
      },
      "execution_count": null,
      "outputs": []
    },
    {
      "cell_type": "code",
      "source": [
        "df.info()\n",
        "# this gives the information of the datset"
      ],
      "metadata": {
        "id": "C3G6sjoBupJy"
      },
      "execution_count": null,
      "outputs": []
    },
    {
      "cell_type": "code",
      "source": [
        "df.dtypes\n",
        "# this gives the data tyoes of the columns"
      ],
      "metadata": {
        "id": "I-4W0u_Vut0e"
      },
      "execution_count": null,
      "outputs": []
    },
    {
      "cell_type": "code",
      "source": [
        "df.describe()"
      ],
      "metadata": {
        "id": "sVljpg8kja7K"
      },
      "execution_count": null,
      "outputs": []
    },
    {
      "cell_type": "markdown",
      "source": [
        "Data Preprocessing"
      ],
      "metadata": {
        "id": "siPnWsZ0znF-"
      }
    },
    {
      "cell_type": "code",
      "source": [
        "# Handling Missing values\n",
        "df.isnull().sum()\n",
        "# there is no null values in the dataframe"
      ],
      "metadata": {
        "id": "A2wPH7abuzAb"
      },
      "execution_count": null,
      "outputs": []
    },
    {
      "cell_type": "code",
      "source": [
        "# finding the duplicate values\n",
        "df.duplicated().sum()\n",
        "# there is no null values in the above data frame"
      ],
      "metadata": {
        "id": "L9qZhI2hz2qF"
      },
      "execution_count": null,
      "outputs": []
    },
    {
      "cell_type": "code",
      "source": [
        "#there is no incorrect data present in the above dataframe"
      ],
      "metadata": {
        "id": "1wtGUruU0DMn"
      },
      "execution_count": null,
      "outputs": []
    },
    {
      "cell_type": "code",
      "source": [
        "# there is no need of scaling here\n",
        "# there is no an categorical values in the dataset"
      ],
      "metadata": {
        "id": "FZWJEf8M1737"
      },
      "execution_count": null,
      "outputs": []
    },
    {
      "cell_type": "code",
      "source": [
        "# here our data is ready to build a model"
      ],
      "metadata": {
        "id": "jpETviGl2N7t"
      },
      "execution_count": null,
      "outputs": []
    },
    {
      "cell_type": "code",
      "source": [
        "df"
      ],
      "metadata": {
        "id": "MpfR_sKH2yhm"
      },
      "execution_count": null,
      "outputs": []
    },
    {
      "cell_type": "markdown",
      "source": [
        "Feature selection"
      ],
      "metadata": {
        "id": "jW6zkNHkjoCN"
      }
    },
    {
      "cell_type": "code",
      "source": [
        "df.head()\n",
        "# this head function gives upto 5 entries"
      ],
      "metadata": {
        "id": "G6DxStnljqmV"
      },
      "execution_count": null,
      "outputs": []
    },
    {
      "cell_type": "code",
      "source": [
        "x = df.iloc[:,[1,2,3]]\n",
        "y = df.iloc[:,[4]]"
      ],
      "metadata": {
        "id": "enFuybhoj0gV"
      },
      "execution_count": null,
      "outputs": []
    },
    {
      "cell_type": "code",
      "source": [
        "x"
      ],
      "metadata": {
        "id": "x1YsCeMOkWYZ"
      },
      "execution_count": null,
      "outputs": []
    },
    {
      "cell_type": "code",
      "source": [
        "y"
      ],
      "metadata": {
        "id": "QFfEDFAAkXxN"
      },
      "execution_count": null,
      "outputs": []
    },
    {
      "cell_type": "code",
      "source": [
        "x.shape\n",
        "# this gives the shape of the x"
      ],
      "metadata": {
        "id": "-K-uipr7kZJX"
      },
      "execution_count": null,
      "outputs": []
    },
    {
      "cell_type": "code",
      "source": [
        "y.shape\n",
        "# it contains 200 rows and 1 column"
      ],
      "metadata": {
        "id": "zmlRHT7Xkf32"
      },
      "execution_count": null,
      "outputs": []
    },
    {
      "cell_type": "code",
      "source": [
        "from sklearn.model_selection import train_test_split\n",
        "x_train,x_test,y_train,y_test = train_test_split(x,y)"
      ],
      "metadata": {
        "id": "TOeLzWkr2Loy"
      },
      "execution_count": null,
      "outputs": []
    },
    {
      "cell_type": "code",
      "source": [
        "x_train"
      ],
      "metadata": {
        "id": "n6n51X1gk1Uy"
      },
      "execution_count": null,
      "outputs": []
    },
    {
      "cell_type": "code",
      "source": [
        "x_test"
      ],
      "metadata": {
        "id": "t3Byxb2b2LfA"
      },
      "execution_count": null,
      "outputs": []
    },
    {
      "cell_type": "code",
      "source": [
        "y_train"
      ],
      "metadata": {
        "id": "q1-4d0ZHk8U8"
      },
      "execution_count": null,
      "outputs": []
    },
    {
      "cell_type": "code",
      "source": [
        "y_test"
      ],
      "metadata": {
        "id": "cyVbDH_6k_Bz"
      },
      "execution_count": null,
      "outputs": []
    },
    {
      "cell_type": "code",
      "source": [],
      "metadata": {
        "id": "ExDe_-vZlC8E"
      },
      "execution_count": null,
      "outputs": []
    },
    {
      "cell_type": "code",
      "source": [
        "print(x_train.shape)\n",
        "print(x_test.shape)\n",
        "print(y_train.shape)\n",
        "print(y_test.shape)"
      ],
      "metadata": {
        "id": "yQgl2vp1lBWg"
      },
      "execution_count": null,
      "outputs": []
    },
    {
      "cell_type": "markdown",
      "source": [
        "# model creation using linear Regression"
      ],
      "metadata": {
        "id": "xUwu1IUQmJx-"
      }
    },
    {
      "cell_type": "code",
      "source": [
        "from sklearn.linear_model import LinearRegression"
      ],
      "metadata": {
        "id": "NZO3K1humI2m"
      },
      "execution_count": null,
      "outputs": []
    },
    {
      "cell_type": "code",
      "source": [
        "model = LinearRegression()\n",
        "print(model)"
      ],
      "metadata": {
        "id": "XnZstucNmWVz"
      },
      "execution_count": null,
      "outputs": []
    },
    {
      "cell_type": "code",
      "source": [
        "mymodel = model.fit(x_train,y_train) # training the model"
      ],
      "metadata": {
        "id": "4_A8_-Xzmb5Z"
      },
      "execution_count": null,
      "outputs": []
    },
    {
      "cell_type": "code",
      "source": [
        "pred_y = mymodel.predict(x_test)"
      ],
      "metadata": {
        "id": "0RpPwahYmilG"
      },
      "execution_count": null,
      "outputs": []
    },
    {
      "cell_type": "code",
      "source": [
        "pred_y\n",
        "# predicted values"
      ],
      "metadata": {
        "id": "itLIJAKqmo46"
      },
      "execution_count": null,
      "outputs": []
    },
    {
      "cell_type": "code",
      "source": [
        "# checking the accuracy of the model"
      ],
      "metadata": {
        "id": "FSm3jDz2mty3"
      },
      "execution_count": null,
      "outputs": []
    },
    {
      "cell_type": "code",
      "source": [
        "from sklearn.metrics import r2_score\n",
        "print(r2_score(pred_y,y_test))"
      ],
      "metadata": {
        "id": "fseNszfhmxQ4"
      },
      "execution_count": null,
      "outputs": []
    },
    {
      "cell_type": "code",
      "source": [
        "# Accuracy of our model is 0.7532164085576778"
      ],
      "metadata": {
        "id": "6SLWpBpHm-3O"
      },
      "execution_count": null,
      "outputs": []
    }
  ]
}