{
  "nbformat": 4,
  "nbformat_minor": 0,
  "metadata": {
    "colab": {
      "private_outputs": true,
      "provenance": []
    },
    "kernelspec": {
      "name": "python3",
      "display_name": "Python 3"
    },
    "language_info": {
      "name": "python"
    }
  },
  "cells": [
    {
      "cell_type": "markdown",
      "source": [
        "The price of a car depends on a lot of factors like the goodwill of the brand of the car, features of the car, horsepower and the mileage it gives and many more. Car price prediction is one of the major research areas in machine learning. So if you want to learn how to train a car price prediction model then this project is for you"
      ],
      "metadata": {
        "id": "MSq9NY-ZSJUE"
      }
    },
    {
      "cell_type": "code",
      "source": [
        "# importing necessary packages\n",
        "import pandas as pd\n",
        "import numpy as np"
      ],
      "metadata": {
        "id": "srkffRtFSqE6"
      },
      "execution_count": null,
      "outputs": []
    },
    {
      "cell_type": "code",
      "source": [
        "# reading the dataset from github\n",
        "df = pd.read_csv('https://raw.githubusercontent.com/SaiTamminana89/csv/main/car%20data.csv')"
      ],
      "metadata": {
        "id": "cT_e1zSTS-yX"
      },
      "execution_count": null,
      "outputs": []
    },
    {
      "cell_type": "code",
      "source": [
        "df"
      ],
      "metadata": {
        "id": "JcnWH-_bTb9D"
      },
      "execution_count": null,
      "outputs": []
    },
    {
      "cell_type": "code",
      "source": [
        "df.shape"
      ],
      "metadata": {
        "id": "mePFRHNMcy4K"
      },
      "execution_count": null,
      "outputs": []
    },
    {
      "cell_type": "code",
      "source": [
        "# above dataframe contains 301 rows and 9 columns "
      ],
      "metadata": {
        "id": "ZgjYhFWnZNWQ"
      },
      "execution_count": null,
      "outputs": []
    },
    {
      "cell_type": "code",
      "source": [
        "# Decsriping the above dataframe"
      ],
      "metadata": {
        "id": "CG04tvk7d3ev"
      },
      "execution_count": null,
      "outputs": []
    },
    {
      "cell_type": "markdown",
      "source": [
        "Data Preprocessing"
      ],
      "metadata": {
        "id": "-yUwZTWkeUsS"
      }
    },
    {
      "cell_type": "code",
      "source": [
        "# Handling missing values"
      ],
      "metadata": {
        "id": "5_HHeLGTgbWE"
      },
      "execution_count": null,
      "outputs": []
    },
    {
      "cell_type": "code",
      "source": [
        "df.isnull().sum()\n",
        "# checking whether the datset contains any null values\n",
        "# there is no null values in the datset"
      ],
      "metadata": {
        "id": "ORDmp3xbgf6_"
      },
      "execution_count": null,
      "outputs": []
    },
    {
      "cell_type": "code",
      "source": [
        "# checking for duplicated values\n",
        "df.duplicated().sum()"
      ],
      "metadata": {
        "id": "4z1ZhkFyhpIe"
      },
      "execution_count": null,
      "outputs": []
    },
    {
      "cell_type": "code",
      "source": [
        "df = df.drop_duplicates()\n",
        "# to drop the duplicates of the dataframe"
      ],
      "metadata": {
        "id": "gkAlCTuziivU"
      },
      "execution_count": null,
      "outputs": []
    },
    {
      "cell_type": "code",
      "source": [
        "df"
      ],
      "metadata": {
        "id": "jbuJaFOLim-o"
      },
      "execution_count": null,
      "outputs": []
    },
    {
      "cell_type": "code",
      "source": [
        "# there is no incorrect data present in the abov dataframe"
      ],
      "metadata": {
        "id": "XqjXjYfpjZom"
      },
      "execution_count": null,
      "outputs": []
    },
    {
      "cell_type": "code",
      "source": [
        "# We need to convert the categorical data into numerical data inorder to build a model"
      ],
      "metadata": {
        "id": "uoqgT3J1d7C8"
      },
      "execution_count": null,
      "outputs": []
    },
    {
      "cell_type": "code",
      "source": [
        "# we use Lable encoding approach to convert the categorical data into numerical data"
      ],
      "metadata": {
        "id": "qRO_gwU_kr0H"
      },
      "execution_count": null,
      "outputs": []
    },
    {
      "cell_type": "code",
      "source": [
        "from sklearn.preprocessing import LabelEncoder"
      ],
      "metadata": {
        "id": "kooyo-K1l0ki"
      },
      "execution_count": null,
      "outputs": []
    },
    {
      "cell_type": "code",
      "source": [
        "encoder  = LabelEncoder()"
      ],
      "metadata": {
        "id": "KNkozRu0mM1k"
      },
      "execution_count": null,
      "outputs": []
    },
    {
      "cell_type": "code",
      "source": [
        "df['Car_Name'] = encoder.fit_transform(df['Car_Name'])\n",
        "df['Fuel_Type'] = encoder.fit_transform(df['Fuel_Type'])\n",
        "df['Selling_type'] = encoder.fit_transform(df['Selling_type'])\n",
        "df['Transmission'] = encoder.fit_transform(df['Transmission'])"
      ],
      "metadata": {
        "id": "SWW4lJpYmRSK"
      },
      "execution_count": null,
      "outputs": []
    },
    {
      "cell_type": "code",
      "source": [
        "df"
      ],
      "metadata": {
        "id": "2I94l1YRlWZ0"
      },
      "execution_count": null,
      "outputs": []
    },
    {
      "cell_type": "markdown",
      "source": [
        "#####Feature selection"
      ],
      "metadata": {
        "id": "0HnVKHGWncMC"
      }
    },
    {
      "cell_type": "code",
      "source": [
        "df.head()"
      ],
      "metadata": {
        "id": "1H5MkHJQnsWD"
      },
      "execution_count": null,
      "outputs": []
    },
    {
      "cell_type": "code",
      "source": [
        "x = df.iloc[:,[0,3,4,5,6,7,8]] # input columns\n",
        "y = df.iloc[:,[2]] # target column"
      ],
      "metadata": {
        "id": "oA4ZJW3WnMHg"
      },
      "execution_count": null,
      "outputs": []
    },
    {
      "cell_type": "code",
      "source": [
        "from sklearn.model_selection import train_test_split\n",
        "x_train,x_test,y_train,y_test = train_test_split(x,y)"
      ],
      "metadata": {
        "id": "eo6Do8IjoZI0"
      },
      "execution_count": null,
      "outputs": []
    },
    {
      "cell_type": "code",
      "source": [
        "x_train"
      ],
      "metadata": {
        "id": "_D2RUDifpGZW"
      },
      "execution_count": null,
      "outputs": []
    },
    {
      "cell_type": "code",
      "source": [
        "x_test"
      ],
      "metadata": {
        "id": "Zl1mZzmepJCM"
      },
      "execution_count": null,
      "outputs": []
    },
    {
      "cell_type": "code",
      "source": [
        "y_train"
      ],
      "metadata": {
        "id": "jwTXR5-ypMhu"
      },
      "execution_count": null,
      "outputs": []
    },
    {
      "cell_type": "code",
      "source": [
        "y_test"
      ],
      "metadata": {
        "id": "v21eOLNWpORB"
      },
      "execution_count": null,
      "outputs": []
    },
    {
      "cell_type": "markdown",
      "source": [
        "#### model creating using linear regression"
      ],
      "metadata": {
        "id": "DjhA8M6apUbh"
      }
    },
    {
      "cell_type": "code",
      "source": [
        "from sklearn.ensemble import RandomForestRegressor"
      ],
      "metadata": {
        "id": "vrI2qaRXpZ0q"
      },
      "execution_count": null,
      "outputs": []
    },
    {
      "cell_type": "code",
      "source": [
        "model = RandomForestRegressor()\n",
        "model"
      ],
      "metadata": {
        "id": "eIFSRxedpf80"
      },
      "execution_count": null,
      "outputs": []
    },
    {
      "cell_type": "code",
      "source": [
        "mymodel = model.fit(x_train,y_train)"
      ],
      "metadata": {
        "id": "seS2Bj_ppwdR"
      },
      "execution_count": null,
      "outputs": []
    },
    {
      "cell_type": "code",
      "source": [
        "pred_y = mymodel.predict(x_test)"
      ],
      "metadata": {
        "id": "gJPi9Gj-p49z"
      },
      "execution_count": null,
      "outputs": []
    },
    {
      "cell_type": "code",
      "source": [
        "pred_y"
      ],
      "metadata": {
        "id": "o_TbJ1i2qbZT"
      },
      "execution_count": null,
      "outputs": []
    },
    {
      "cell_type": "code",
      "source": [
        "y_test"
      ],
      "metadata": {
        "id": "lV0m51hqqgmU"
      },
      "execution_count": null,
      "outputs": []
    },
    {
      "cell_type": "markdown",
      "source": [
        "###### Checking the accuracy of the model"
      ],
      "metadata": {
        "id": "Ve4RV-ufqCfF"
      }
    },
    {
      "cell_type": "code",
      "source": [
        "from sklearn.metrics import r2_score\n",
        "r2_score(pred_y,y_test)"
      ],
      "metadata": {
        "id": "HdQnbMFYqAeA"
      },
      "execution_count": null,
      "outputs": []
    },
    {
      "cell_type": "code",
      "source": [
        "# accuracy of the model is 0.8646808901499545"
      ],
      "metadata": {
        "id": "25h3IafvqdXR"
      },
      "execution_count": null,
      "outputs": []
    }
  ]
}