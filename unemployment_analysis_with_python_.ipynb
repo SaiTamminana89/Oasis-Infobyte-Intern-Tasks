{
  "nbformat": 4,
  "nbformat_minor": 0,
  "metadata": {
    "colab": {
      "private_outputs": true,
      "provenance": []
    },
    "kernelspec": {
      "name": "python3",
      "display_name": "Python 3"
    },
    "language_info": {
      "name": "python"
    }
  },
  "cells": [
    {
      "cell_type": "markdown",
      "source": [
        "Unemployment is measured by the unemployment rate which is the number of people\n",
        "who are unemployed as a percentage of the total labour force. We have seen a sharp\n",
        "increase in the unemployment rate during Covid-19, so analyzing the unemployment rate\n",
        "can be a good data science project. \n",
        "\n"
      ],
      "metadata": {
        "id": "06B0j7H-pBAW"
      }
    },
    {
      "cell_type": "code",
      "execution_count": null,
      "metadata": {
        "id": "X1M6-OnIoDOK"
      },
      "outputs": [],
      "source": [
        "# importing necessary packages\n",
        "import pandas as pd\n",
        "import numpy as np"
      ]
    },
    {
      "cell_type": "code",
      "source": [
        "# readind data from the github"
      ],
      "metadata": {
        "id": "Z4B-MUh0pL5-"
      },
      "execution_count": null,
      "outputs": []
    },
    {
      "cell_type": "code",
      "source": [
        "df = pd.read_csv('https://raw.githubusercontent.com/SaiTamminana89/csv/main/Unemployment%20in%20India.csv')"
      ],
      "metadata": {
        "id": "H0pbDWl2ZYlb"
      },
      "execution_count": null,
      "outputs": []
    },
    {
      "cell_type": "code",
      "source": [
        "df"
      ],
      "metadata": {
        "id": "BM7icB0nZbiJ"
      },
      "execution_count": null,
      "outputs": []
    },
    {
      "cell_type": "code",
      "source": [
        "df.info()\n",
        "# getting information from the data"
      ],
      "metadata": {
        "id": "RPWsaA5dd1ec"
      },
      "execution_count": null,
      "outputs": []
    },
    {
      "cell_type": "code",
      "source": [
        "df.dtypes\n",
        "# finding the datatypes of the column"
      ],
      "metadata": {
        "id": "wNjLWRuHd6NO"
      },
      "execution_count": null,
      "outputs": []
    },
    {
      "cell_type": "markdown",
      "source": [
        "making data ready for analysis"
      ],
      "metadata": {
        "id": "TqI1e-7IeHC8"
      }
    },
    {
      "cell_type": "markdown",
      "source": [
        "Data Preprocessing"
      ],
      "metadata": {
        "id": "AKCmRiJHeNB-"
      }
    },
    {
      "cell_type": "code",
      "source": [
        "# finding the null values present in the dataset\n",
        "df.isnull().sum()"
      ],
      "metadata": {
        "id": "_1ZvcBixeLJK"
      },
      "execution_count": null,
      "outputs": []
    },
    {
      "cell_type": "code",
      "source": [
        "# here every column contains equall null values these null values didn't \n",
        "# impact the target column that's why we are removing the null values"
      ],
      "metadata": {
        "id": "uLLI1KifeZO8"
      },
      "execution_count": null,
      "outputs": []
    },
    {
      "cell_type": "code",
      "source": [
        "df = df.dropna() # this dropna() function removes the null values"
      ],
      "metadata": {
        "id": "n4BvSBgWe28B"
      },
      "execution_count": null,
      "outputs": []
    },
    {
      "cell_type": "code",
      "source": [
        "df.isnull().sum()"
      ],
      "metadata": {
        "id": "KV5cjhGse99_"
      },
      "execution_count": null,
      "outputs": []
    },
    {
      "cell_type": "code",
      "source": [
        "# there is no null values present in the above dataframe"
      ],
      "metadata": {
        "id": "CFKP99KVfEIr"
      },
      "execution_count": null,
      "outputs": []
    },
    {
      "cell_type": "code",
      "source": [
        "# there is no any incorrect data present in the above dataframe"
      ],
      "metadata": {
        "id": "X3myng1efHwx"
      },
      "execution_count": null,
      "outputs": []
    },
    {
      "cell_type": "code",
      "source": [
        "# removing the redindant data present in the above dataframe"
      ],
      "metadata": {
        "id": "ivrS5SdgfOAm"
      },
      "execution_count": null,
      "outputs": []
    },
    {
      "cell_type": "code",
      "source": [
        "df.duplicated().sum() # this gives the number of duplicated values present in the above dataframe"
      ],
      "metadata": {
        "id": "Dk5dU0cdffEw"
      },
      "execution_count": null,
      "outputs": []
    },
    {
      "cell_type": "markdown",
      "source": [
        "Analyzing data with data visualization"
      ],
      "metadata": {
        "id": "OfLVz1GQfykh"
      }
    },
    {
      "cell_type": "code",
      "source": [
        "df"
      ],
      "metadata": {
        "id": "Aaq8-I7mfpoP"
      },
      "execution_count": null,
      "outputs": []
    },
    {
      "cell_type": "code",
      "source": [
        "import matplotlib.pyplot as plt"
      ],
      "metadata": {
        "id": "JftvCaE4f-cl"
      },
      "execution_count": null,
      "outputs": []
    },
    {
      "cell_type": "markdown",
      "source": [
        "Scatter Plot"
      ],
      "metadata": {
        "id": "k8Z8ZvYGgCQg"
      }
    },
    {
      "cell_type": "code",
      "source": [
        "# this scatter plot is used to identify the relationship between the two variables"
      ],
      "metadata": {
        "id": "piNQdZYtjVoz"
      },
      "execution_count": null,
      "outputs": []
    },
    {
      "cell_type": "code",
      "source": [
        "df.head(2)"
      ],
      "metadata": {
        "id": "mxJUIXKykKqz"
      },
      "execution_count": null,
      "outputs": []
    },
    {
      "cell_type": "code",
      "source": [
        "plt.xlabel('Estimated Employed')\n",
        "plt.ylabel('Estimated Unemployment Rate (%)')\n",
        "plt.title('fiding the realtion')\n",
        "plt.scatter(df[' Estimated Employed'],df[' Estimated Unemployment Rate (%)'])\n",
        "plt.show() # this show() function is used to display the current plot"
      ],
      "metadata": {
        "id": "uPahwpeGgByF"
      },
      "execution_count": null,
      "outputs": []
    },
    {
      "cell_type": "code",
      "source": [
        "# there is some what linear relation between the Estimated Employedand Estimated Unemployment Rate (%) in the given data "
      ],
      "metadata": {
        "id": "gL2DjE6AmTW7"
      },
      "execution_count": null,
      "outputs": []
    },
    {
      "cell_type": "code",
      "source": [
        "plt.xlabel('Estimated Labour Participation Rate (%)')\n",
        "plt.ylabel('Estimated Unemployment Rate (%)')\n",
        "plt.title('fiding the realtion')\n",
        "plt.scatter(df[' Estimated Labour Participation Rate (%)'],df[' Estimated Unemployment Rate (%)'])\n",
        "plt.show() # this show() function is used to display the current plot"
      ],
      "metadata": {
        "id": "zdgf9BJpmi6I"
      },
      "execution_count": null,
      "outputs": []
    },
    {
      "cell_type": "code",
      "source": [
        "# there some wgat linear relationship between Estimated Labour Participation Rate (%) and Estimated Unemployment Rate (%)"
      ],
      "metadata": {
        "id": "82GJu_bcmwZA"
      },
      "execution_count": null,
      "outputs": []
    },
    {
      "cell_type": "markdown",
      "source": [
        "Line Plot"
      ],
      "metadata": {
        "id": "2swP1j8qonxR"
      }
    },
    {
      "cell_type": "markdown",
      "source": [
        " useful for showing trends over time or for comparing multiple variables."
      ],
      "metadata": {
        "id": "FbXyT9oHpMII"
      }
    },
    {
      "cell_type": "code",
      "source": [
        "df.head(2)"
      ],
      "metadata": {
        "id": "2Ochu1NHpXGQ"
      },
      "execution_count": null,
      "outputs": []
    },
    {
      "cell_type": "code",
      "source": [],
      "metadata": {
        "id": "_ysptGVbqj4L"
      },
      "execution_count": null,
      "outputs": []
    },
    {
      "cell_type": "markdown",
      "source": [
        "Bar chart"
      ],
      "metadata": {
        "id": "Hssc08TXx2YC"
      }
    },
    {
      "cell_type": "code",
      "source": [
        "# this chart is used for comparing the categorical data"
      ],
      "metadata": {
        "id": "IGj8LrZAyFTd"
      },
      "execution_count": null,
      "outputs": []
    },
    {
      "cell_type": "code",
      "source": [
        "plt.xlabel('Date')\n",
        "plt.ylabel('Estimated Unemployment Rate (%)')\n",
        "plt.title('Finding unemploymemt rate over the years')\n",
        "plt.bar(df[' Date'],df[' Estimated Unemployment Rate (%)'])\n",
        "plt.show() # this show() function is used to display the current plot"
      ],
      "metadata": {
        "id": "7dAjrEREk1ME"
      },
      "execution_count": null,
      "outputs": []
    },
    {
      "cell_type": "code",
      "source": [
        "df"
      ],
      "metadata": {
        "id": "D4QEgmAZybRC"
      },
      "execution_count": null,
      "outputs": []
    },
    {
      "cell_type": "code",
      "source": [
        "an = df.groupby('Region')[' Estimated Unemployment Rate (%)',' Estimated Labour Participation Rate (%)']"
      ],
      "metadata": {
        "id": "DhvquyX50LQk"
      },
      "execution_count": null,
      "outputs": []
    },
    {
      "cell_type": "code",
      "source": [
        "an.first()"
      ],
      "metadata": {
        "id": "tnl5ogkQ7LaX"
      },
      "execution_count": null,
      "outputs": []
    },
    {
      "cell_type": "code",
      "source": [
        "an.plot(kind='bar',stacked=True)\n",
        "# this is used to create a stacked bar chart"
      ],
      "metadata": {
        "id": "sLdWWU6U6d06"
      },
      "execution_count": null,
      "outputs": []
    },
    {
      "cell_type": "markdown",
      "source": [
        "Boxplot"
      ],
      "metadata": {
        "id": "Ttm8gnns8PmB"
      }
    },
    {
      "cell_type": "code",
      "source": [
        "# box plot on Estimated Employed'"
      ],
      "metadata": {
        "id": "juR-Tgjs8c3b"
      },
      "execution_count": null,
      "outputs": []
    },
    {
      "cell_type": "code",
      "source": [
        "plt.boxplot(df[' Estimated Employed'])"
      ],
      "metadata": {
        "id": "qGpmd93L7YGE"
      },
      "execution_count": null,
      "outputs": []
    },
    {
      "cell_type": "code",
      "source": [
        "# the above graph gives the unemployment rate in different rehions"
      ],
      "metadata": {
        "id": "5-f0BSoMyynM"
      },
      "execution_count": null,
      "outputs": []
    },
    {
      "cell_type": "markdown",
      "source": [
        "Histogram"
      ],
      "metadata": {
        "id": "vA-D6Zkj96ea"
      }
    },
    {
      "cell_type": "code",
      "source": [
        "df.shape"
      ],
      "metadata": {
        "id": "AD6W-2CgAqu_"
      },
      "execution_count": null,
      "outputs": []
    },
    {
      "cell_type": "code",
      "source": [
        "plt.hist(df[' Estimated Unemployment Rate (%)'])"
      ],
      "metadata": {
        "id": "LVuLgyrwASsP"
      },
      "execution_count": null,
      "outputs": []
    },
    {
      "cell_type": "markdown",
      "source": [
        "Heatmap using seaborn library"
      ],
      "metadata": {
        "id": "L2ROBuUYBQIo"
      }
    },
    {
      "cell_type": "code",
      "source": [
        "# this heatmap is used to find out the realtion between the continious variables"
      ],
      "metadata": {
        "id": "1I1fAqQcCAOk"
      },
      "execution_count": null,
      "outputs": []
    },
    {
      "cell_type": "code",
      "source": [
        "df.corr()\n",
        "# this gives the correlation  matrix"
      ],
      "metadata": {
        "id": "ubqHqEY4IuCG"
      },
      "execution_count": null,
      "outputs": []
    },
    {
      "cell_type": "code",
      "source": [
        "import seaborn as sns"
      ],
      "metadata": {
        "id": "XEtZ7h5YBTbJ"
      },
      "execution_count": null,
      "outputs": []
    },
    {
      "cell_type": "code",
      "source": [
        "plt.figure(figsize=(8,8))\n",
        "sns.heatmap(df.corr())"
      ],
      "metadata": {
        "id": "5I2aOHcHBaEM"
      },
      "execution_count": null,
      "outputs": []
    },
    {
      "cell_type": "code",
      "source": [
        "# the above heat map gives the relation between the variables"
      ],
      "metadata": {
        "id": "KGJMwKvNIS4_"
      },
      "execution_count": null,
      "outputs": []
    },
    {
      "cell_type": "code",
      "source": [
        "# I have done data analysis with all these graphs\n",
        "# heatmap\n",
        "# boxplot\n",
        "# barchart\n",
        "# histogram\n",
        "# scatter\n",
        "# line plot"
      ],
      "metadata": {
        "id": "-_suNYovHinf"
      },
      "execution_count": null,
      "outputs": []
    }
  ]
}